{
 "cells": [
  {
   "cell_type": "code",
   "execution_count": 1,
   "id": "01d69ef3-a829-4ff5-933b-05ba30799a9d",
   "metadata": {},
   "outputs": [],
   "source": [
    "import pandas as pd"
   ]
  },
  {
   "cell_type": "code",
   "execution_count": 2,
   "id": "e47af22c-79db-48d2-b15e-1d8cd5253d89",
   "metadata": {},
   "outputs": [],
   "source": [
    "#loading the raw data"
   ]
  },
  {
   "cell_type": "code",
   "execution_count": 8,
   "id": "c8d10b59-b597-45b3-a3c2-664f9f9c185f",
   "metadata": {},
   "outputs": [
    {
     "name": "stdout",
     "output_type": "stream",
     "text": [
      "   Height(Inches)  Weight(Pounds)  Age  GripStrength Frailty\n",
      "0            65.8             112   30            30       N\n",
      "1            71.5             136   19            31       N\n",
      "2            69.4             153   45            29       N\n",
      "3            68.2             142   22            28       Y\n",
      "4            67.8             144   29            24       Y\n",
      "5            68.7             123   50            26       N\n",
      "6            69.8             141   51            22       Y\n",
      "7            70.1             136   23            20       Y\n",
      "8            67.9             112   17            19       N\n",
      "9            66.8             120   39            31       N\n"
     ]
    }
   ],
   "source": [
    "df = pd.read_csv('C:/Users/visha/OneDrive/Desktop/PDS/Assignment-1/raw_data/raw_data.csv')\n",
    "print(df.to_string())"
   ]
  },
  {
   "cell_type": "code",
   "execution_count": 9,
   "id": "2887d158-5612-41c7-a19c-8635208fe260",
   "metadata": {},
   "outputs": [
    {
     "data": {
      "text/plain": [
       "Height(Inches)    0\n",
       "Weight(Pounds)    0\n",
       "Age               0\n",
       "GripStrength      0\n",
       "Frailty           0\n",
       "dtype: int64"
      ]
     },
     "execution_count": 9,
     "metadata": {},
     "output_type": "execute_result"
    }
   ],
   "source": [
    "df.isnull().sum()"
   ]
  },
  {
   "cell_type": "code",
   "execution_count": 10,
   "id": "b610199c-d7ca-4c41-8334-f8dbc31c3c65",
   "metadata": {},
   "outputs": [],
   "source": [
    "# now we are Storing cleaned data to data_clean folder"
   ]
  },
  {
   "cell_type": "code",
   "execution_count": 12,
   "id": "53c5198a-e020-4064-adf0-120958e5365f",
   "metadata": {},
   "outputs": [],
   "source": [
    "df.to_csv('C:/Users/visha/OneDrive/Desktop/PDS/Assignment-1/clean_data/clean_data.csv')"
   ]
  },
  {
   "cell_type": "code",
   "execution_count": null,
   "id": "0d7d2dde-10ef-4c2e-8131-03786f640de6",
   "metadata": {},
   "outputs": [],
   "source": []
  }
 ],
 "metadata": {
  "kernelspec": {
   "display_name": "Python 3 (ipykernel)",
   "language": "python",
   "name": "python3"
  },
  "language_info": {
   "codemirror_mode": {
    "name": "ipython",
    "version": 3
   },
   "file_extension": ".py",
   "mimetype": "text/x-python",
   "name": "python",
   "nbconvert_exporter": "python",
   "pygments_lexer": "ipython3",
   "version": "3.11.2"
  }
 },
 "nbformat": 4,
 "nbformat_minor": 5
}
