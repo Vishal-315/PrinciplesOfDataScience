{
 "cells": [
  {
   "cell_type": "code",
   "execution_count": 1,
   "id": "fccc2202-c45b-43f5-a5c2-c23af378f9b7",
   "metadata": {},
   "outputs": [],
   "source": [
    "import pandas as pd"
   ]
  },
  {
   "cell_type": "code",
   "execution_count": 2,
   "id": "4ce4ca48-1510-42ea-9786-9763b763393a",
   "metadata": {},
   "outputs": [],
   "source": [
    "#loading clean data for analysis"
   ]
  },
  {
   "cell_type": "code",
   "execution_count": 3,
   "id": "fb7c8646-b6c7-4fc5-829a-4d2cb0b7b8ec",
   "metadata": {},
   "outputs": [],
   "source": [
    "df = pd.read_csv('../data_clean/diabetes.csv')"
   ]
  },
  {
   "cell_type": "code",
   "execution_count": 4,
   "id": "d25336ab-ebd5-44ad-ab62-320ceb985e3d",
   "metadata": {},
   "outputs": [
    {
     "name": "stdout",
     "output_type": "stream",
     "text": [
      "   Unnamed: 0  Pregnancies  Glucose  BloodPressure  SkinThickness  Insulin  \\\n",
      "0           0            6      148             72             35        0   \n",
      "1           1            1       85             66             29        0   \n",
      "2           2            8      183             64              0        0   \n",
      "3           3            1       89             66             23       94   \n",
      "4           4            0      137             40             35      168   \n",
      "\n",
      "    BMI  DiabetesPedigreeFunction  Age  Outcome  \n",
      "0  33.6                     0.627   50        1  \n",
      "1  26.6                     0.351   31        0  \n",
      "2  23.3                     0.672   32        1  \n",
      "3  28.1                     0.167   21        0  \n",
      "4  43.1                     2.288   33        1  \n"
     ]
    }
   ],
   "source": [
    "print(df.head())"
   ]
  },
  {
   "cell_type": "code",
   "execution_count": 5,
   "id": "261cc5d2-5fa0-47ab-9fb8-074825559c29",
   "metadata": {},
   "outputs": [
    {
     "name": "stdout",
     "output_type": "stream",
     "text": [
      "<class 'pandas.core.frame.DataFrame'>\n",
      "RangeIndex: 768 entries, 0 to 767\n",
      "Data columns (total 10 columns):\n",
      " #   Column                    Non-Null Count  Dtype  \n",
      "---  ------                    --------------  -----  \n",
      " 0   Unnamed: 0                768 non-null    int64  \n",
      " 1   Pregnancies               768 non-null    int64  \n",
      " 2   Glucose                   768 non-null    int64  \n",
      " 3   BloodPressure             768 non-null    int64  \n",
      " 4   SkinThickness             768 non-null    int64  \n",
      " 5   Insulin                   768 non-null    int64  \n",
      " 6   BMI                       768 non-null    float64\n",
      " 7   DiabetesPedigreeFunction  768 non-null    float64\n",
      " 8   Age                       768 non-null    int64  \n",
      " 9   Outcome                   768 non-null    int64  \n",
      "dtypes: float64(2), int64(8)\n",
      "memory usage: 60.1 KB\n"
     ]
    }
   ],
   "source": [
    "df.info()"
   ]
  },
  {
   "cell_type": "code",
   "execution_count": 6,
   "id": "62a076f1-fb83-4aa6-93ad-dda6cb1d759b",
   "metadata": {},
   "outputs": [],
   "source": [
    "#importing the libraries\n",
    "import matplotlib.pyplot as plt\n",
    "import seaborn as sns\n",
    "import numpy as np\n"
   ]
  },
  {
   "cell_type": "code",
   "execution_count": 7,
   "id": "6c44f604-470f-4b6d-8170-edeb78d6dc5e",
   "metadata": {},
   "outputs": [],
   "source": [
    "#generating sample from population with size 25( setting the seed as id num last 3 digits using randam_state)"
   ]
  },
  {
   "cell_type": "code",
   "execution_count": 8,
   "id": "a6cf2c8b-5c30-432b-86a8-db634906835a",
   "metadata": {},
   "outputs": [],
   "source": [
    "sample_population= df.sample(n= 25, random_state= 457)"
   ]
  },
  {
   "cell_type": "code",
   "execution_count": 9,
   "id": "a0563e45-204a-492b-a4c9-bf872931dee3",
   "metadata": {},
   "outputs": [
    {
     "data": {
      "text/html": [
       "<div>\n",
       "<style scoped>\n",
       "    .dataframe tbody tr th:only-of-type {\n",
       "        vertical-align: middle;\n",
       "    }\n",
       "\n",
       "    .dataframe tbody tr th {\n",
       "        vertical-align: top;\n",
       "    }\n",
       "\n",
       "    .dataframe thead th {\n",
       "        text-align: right;\n",
       "    }\n",
       "</style>\n",
       "<table border=\"1\" class=\"dataframe\">\n",
       "  <thead>\n",
       "    <tr style=\"text-align: right;\">\n",
       "      <th></th>\n",
       "      <th>Unnamed: 0</th>\n",
       "      <th>Pregnancies</th>\n",
       "      <th>Glucose</th>\n",
       "      <th>BloodPressure</th>\n",
       "      <th>SkinThickness</th>\n",
       "      <th>Insulin</th>\n",
       "      <th>BMI</th>\n",
       "      <th>DiabetesPedigreeFunction</th>\n",
       "      <th>Age</th>\n",
       "      <th>Outcome</th>\n",
       "    </tr>\n",
       "  </thead>\n",
       "  <tbody>\n",
       "    <tr>\n",
       "      <th>125</th>\n",
       "      <td>125</td>\n",
       "      <td>1</td>\n",
       "      <td>88</td>\n",
       "      <td>30</td>\n",
       "      <td>42</td>\n",
       "      <td>99</td>\n",
       "      <td>55.0</td>\n",
       "      <td>0.496</td>\n",
       "      <td>26</td>\n",
       "      <td>1</td>\n",
       "    </tr>\n",
       "    <tr>\n",
       "      <th>328</th>\n",
       "      <td>328</td>\n",
       "      <td>2</td>\n",
       "      <td>102</td>\n",
       "      <td>86</td>\n",
       "      <td>36</td>\n",
       "      <td>120</td>\n",
       "      <td>45.5</td>\n",
       "      <td>0.127</td>\n",
       "      <td>23</td>\n",
       "      <td>1</td>\n",
       "    </tr>\n",
       "    <tr>\n",
       "      <th>759</th>\n",
       "      <td>759</td>\n",
       "      <td>6</td>\n",
       "      <td>190</td>\n",
       "      <td>92</td>\n",
       "      <td>0</td>\n",
       "      <td>0</td>\n",
       "      <td>35.5</td>\n",
       "      <td>0.278</td>\n",
       "      <td>66</td>\n",
       "      <td>1</td>\n",
       "    </tr>\n",
       "    <tr>\n",
       "      <th>186</th>\n",
       "      <td>186</td>\n",
       "      <td>8</td>\n",
       "      <td>181</td>\n",
       "      <td>68</td>\n",
       "      <td>36</td>\n",
       "      <td>495</td>\n",
       "      <td>30.1</td>\n",
       "      <td>0.615</td>\n",
       "      <td>60</td>\n",
       "      <td>1</td>\n",
       "    </tr>\n",
       "    <tr>\n",
       "      <th>104</th>\n",
       "      <td>104</td>\n",
       "      <td>2</td>\n",
       "      <td>85</td>\n",
       "      <td>65</td>\n",
       "      <td>0</td>\n",
       "      <td>0</td>\n",
       "      <td>39.6</td>\n",
       "      <td>0.930</td>\n",
       "      <td>27</td>\n",
       "      <td>0</td>\n",
       "    </tr>\n",
       "  </tbody>\n",
       "</table>\n",
       "</div>"
      ],
      "text/plain": [
       "     Unnamed: 0  Pregnancies  Glucose  BloodPressure  SkinThickness  Insulin  \\\n",
       "125         125            1       88             30             42       99   \n",
       "328         328            2      102             86             36      120   \n",
       "759         759            6      190             92              0        0   \n",
       "186         186            8      181             68             36      495   \n",
       "104         104            2       85             65              0        0   \n",
       "\n",
       "      BMI  DiabetesPedigreeFunction  Age  Outcome  \n",
       "125  55.0                     0.496   26        1  \n",
       "328  45.5                     0.127   23        1  \n",
       "759  35.5                     0.278   66        1  \n",
       "186  30.1                     0.615   60        1  \n",
       "104  39.6                     0.930   27        0  "
      ]
     },
     "execution_count": 9,
     "metadata": {},
     "output_type": "execute_result"
    }
   ],
   "source": [
    "sample_population.head()"
   ]
  },
  {
   "cell_type": "code",
   "execution_count": 10,
   "id": "69827cb9-50b2-48bb-8870-de0207f397ad",
   "metadata": {},
   "outputs": [],
   "source": [
    "#finding mean for Glucose column sample"
   ]
  },
  {
   "cell_type": "code",
   "execution_count": 11,
   "id": "25bb64ef-7c0c-45fb-9f66-30874e402379",
   "metadata": {},
   "outputs": [],
   "source": [
    "sample_mean=sample_population[\"Glucose\"].mean()"
   ]
  },
  {
   "cell_type": "code",
   "execution_count": 12,
   "id": "a6d814d3-da6f-4a65-bfc0-f30223735bcc",
   "metadata": {},
   "outputs": [],
   "source": [
    "#finding max value for Glucose column sample data"
   ]
  },
  {
   "cell_type": "code",
   "execution_count": 13,
   "id": "30af07c2-6759-49e0-8cec-66ea558b731a",
   "metadata": {},
   "outputs": [],
   "source": [
    "sample_max_value=sample_population[\"Glucose\"].max()"
   ]
  },
  {
   "cell_type": "code",
   "execution_count": 14,
   "id": "4186e397-6bba-4976-ba4a-f444fbebb80c",
   "metadata": {},
   "outputs": [],
   "source": [
    "#finding mean for Glucose column for whole population"
   ]
  },
  {
   "cell_type": "code",
   "execution_count": 15,
   "id": "852f59b9-7632-4854-8bbd-fd4a37a06000",
   "metadata": {},
   "outputs": [],
   "source": [
    "population_mean=df[\"Glucose\"].mean()"
   ]
  },
  {
   "cell_type": "code",
   "execution_count": 16,
   "id": "15061844-d7f8-42ea-a7e9-438cabb02cc8",
   "metadata": {},
   "outputs": [],
   "source": [
    "#finding max value for Gl;ucose column for whole population"
   ]
  },
  {
   "cell_type": "code",
   "execution_count": 17,
   "id": "c6e1ba48-610b-4461-b676-096c4ceca35c",
   "metadata": {},
   "outputs": [],
   "source": [
    "population_max_value=df[\"Glucose\"].max()"
   ]
  },
  {
   "cell_type": "code",
   "execution_count": 18,
   "id": "4615007c-95ea-4158-abd8-2ae26cb0d18c",
   "metadata": {},
   "outputs": [],
   "source": [
    "# creating list for sample and population mean for visualization"
   ]
  },
  {
   "cell_type": "code",
   "execution_count": 19,
   "id": "0bf201ec-f71e-4024-b520-d4036e0bfcf0",
   "metadata": {},
   "outputs": [],
   "source": [
    "keys=[\"sample\",\"population\"]"
   ]
  },
  {
   "cell_type": "code",
   "execution_count": 20,
   "id": "e3249879-413f-4400-9c3a-309499d66710",
   "metadata": {},
   "outputs": [],
   "source": [
    "values=[sample_mean,population_mean]"
   ]
  },
  {
   "cell_type": "code",
   "execution_count": 21,
   "id": "68b3f3e6-919f-4c4f-a377-437d36c3bf76",
   "metadata": {},
   "outputs": [
    {
     "name": "stdout",
     "output_type": "stream",
     "text": [
      "[126.52, 120.89453125]\n"
     ]
    }
   ],
   "source": [
    "print(values)"
   ]
  },
  {
   "cell_type": "code",
   "execution_count": 22,
   "id": "d2060fa0-609b-41d1-acf7-ad65658d6ad7",
   "metadata": {},
   "outputs": [],
   "source": [
    "#visualizing the sample and population means"
   ]
  },
  {
   "cell_type": "code",
   "execution_count": 23,
   "id": "900c04ad-55b0-47d7-888e-a3b34839cb73",
   "metadata": {},
   "outputs": [
    {
     "data": {
      "image/png": "[encoded data removed]",
      "text/plain": [
       "<Figure size 640x480 with 1 Axes>"
      ]
     },
     "metadata": {},
     "output_type": "display_data"
    }
   ],
   "source": [
    "plt.bar(keys, values, color ='blue',\n",
    "        width = 0.5)\n",
    " \n",
    "plt.xlabel(\"means\")\n",
    "plt.ylabel(\"mean values\")\n",
    "plt.title(\"comparing sample and population means\")\n",
    "\n",
    "\n",
    "plt.savefig(\"../results/sample_population_mean_comparison.png\")\n",
    "\n",
    "plt.show()"
   ]
  },
  {
   "cell_type": "code",
   "execution_count": 24,
   "id": "35707324-cf20-4f70-ae83-10d27981947d",
   "metadata": {},
   "outputs": [],
   "source": [
    "#generating lists for max glucose values for sample and population data set"
   ]
  },
  {
   "cell_type": "code",
   "execution_count": 25,
   "id": "6ef9d4fb-9458-40bc-8653-3c9b849316df",
   "metadata": {},
   "outputs": [],
   "source": [
    "keys=[\"sample\",\"population\"]"
   ]
  },
  {
   "cell_type": "code",
   "execution_count": 60,
   "id": "380a6ef3-2ae1-4776-9eab-5dd81792bb6f",
   "metadata": {},
   "outputs": [
    {
     "name": "stdout",
     "output_type": "stream",
     "text": [
      "[190, 199]\n"
     ]
    }
   ],
   "source": [
    "values=[sample_max_value,population_max_value]\n",
    "print(values)"
   ]
  },
  {
   "cell_type": "code",
   "execution_count": 27,
   "id": "f6324611-8cdf-4e9e-be5e-31722a41f524",
   "metadata": {},
   "outputs": [],
   "source": [
    "#visualizing the sample and population max value"
   ]
  },
  {
   "cell_type": "code",
   "execution_count": 28,
   "id": "d9e6d42f-ca29-44de-975c-8ec207e315b7",
   "metadata": {},
   "outputs": [
    {
     "data": {
      "image/png": "[encoded data removed]",
      "text/plain": [
       "<Figure size 640x480 with 1 Axes>"
      ]
     },
     "metadata": {},
     "output_type": "display_data"
    }
   ],
   "source": [
    "plt.bar(keys, values, color ='blue',\n",
    "        width = 0.5)\n",
    " \n",
    "plt.xlabel(\"max\")\n",
    "plt.ylabel(\"max values\")\n",
    "plt.title(\"comparing sample and population max values\")\n",
    "\n",
    "\n",
    "plt.savefig(\"../results/sample_population_max.png\")\n",
    "\n",
    "plt.show()"
   ]
  },
  {
   "cell_type": "code",
   "execution_count": 29,
   "id": "76f38151-efbc-4c45-ab0a-4cc9cb9e3800",
   "metadata": {},
   "outputs": [],
   "source": [
    "# finding the 98th percentile for BMI for sample and population"
   ]
  },
  {
   "cell_type": "code",
   "execution_count": 30,
   "id": "1b6f6fbd-ebda-4b6f-8d36-099224d76424",
   "metadata": {},
   "outputs": [],
   "source": [
    "sample_98=sample_population.BMI.quantile(0.98)  # 98th percentile"
   ]
  },
  {
   "cell_type": "code",
   "execution_count": 31,
   "id": "95a94535-06c3-4c88-9a53-6a09de5d50a0",
   "metadata": {},
   "outputs": [],
   "source": [
    "population_98=df.BMI.quantile(0.98)"
   ]
  },
  {
   "cell_type": "code",
   "execution_count": 32,
   "id": "0637805f-0fa7-410f-a763-9b1ef7e32999",
   "metadata": {},
   "outputs": [],
   "source": [
    "#generating lists to visualize 98 th percentile of BMI"
   ]
  },
  {
   "cell_type": "code",
   "execution_count": 33,
   "id": "43a0f0ae-7d97-42e1-a4c0-fe9d30991cb2",
   "metadata": {},
   "outputs": [],
   "source": [
    "keys=[\"sample\",\"population\"]\n",
    "\n",
    "values=[sample_98,population_98]"
   ]
  },
  {
   "cell_type": "code",
   "execution_count": 34,
   "id": "508276fc-6792-4103-9efe-08405beca6f4",
   "metadata": {},
   "outputs": [],
   "source": [
    "# visualizing the 98th percentile of BMI for sample and population data sets"
   ]
  },
  {
   "cell_type": "code",
   "execution_count": 35,
   "id": "5ef9677c-1c1f-4f9e-84cd-0630a86a285c",
   "metadata": {
    "scrolled": true
   },
   "outputs": [
    {
     "data": {
      "image/png": "[encoded data removed]",
      "text/plain": [
       "<Figure size 640x480 with 1 Axes>"
      ]
     },
     "metadata": {},
     "output_type": "display_data"
    }
   ],
   "source": [
    "plt.bar(keys, values, color ='blue',\n",
    "        width = 0.5)\n",
    " \n",
    "plt.xlabel(\"98th percentile\")\n",
    "plt.ylabel(\" values \")\n",
    "plt.title(\"comparing sample and population 98th percentile\")\n",
    "\n",
    "\n",
    "plt.savefig(\"../results/sample_population_98th percentile.png\")\n",
    "\n",
    "plt.show()"
   ]
  },
  {
   "cell_type": "code",
   "execution_count": 36,
   "id": "eecc09ae-69c1-497b-8dbe-76d5aae73f57",
   "metadata": {},
   "outputs": [],
   "source": [
    "#  Creating 500 sample using bootstrap"
   ]
  },
  {
   "cell_type": "code",
   "execution_count": 37,
   "id": "6344465d-a5b1-496d-9b81-6500c59a3d4b",
   "metadata": {},
   "outputs": [
    {
     "name": "stdout",
     "output_type": "stream",
     "text": [
      "     Unnamed: 0  Pregnancies  Glucose  BloodPressure  SkinThickness  Insulin  \\\n",
      "354         354            3       90             78              0        0   \n",
      "147         147            2      106             64             35      119   \n",
      "218         218            5       85             74             22        0   \n",
      "436         436           12      140             85             33        0   \n",
      "640         640            0      102             86             17      105   \n",
      "..          ...          ...      ...            ...            ...      ...   \n",
      "664         664            6      115             60             39        0   \n",
      "332         332            1      180              0              0        0   \n",
      "345         345            8      126             88             36      108   \n",
      "588         588            3      176             86             27      156   \n",
      "410         410            6      102             90             39        0   \n",
      "\n",
      "      BMI  DiabetesPedigreeFunction  Age  Outcome  \n",
      "354  42.7                     0.559   21        0  \n",
      "147  30.5                     1.400   34        0  \n",
      "218  29.0                     1.224   32        1  \n",
      "436  37.4                     0.244   41        0  \n",
      "640  29.3                     0.695   27        0  \n",
      "..    ...                       ...  ...      ...  \n",
      "664  33.7                     0.245   40        1  \n",
      "332  43.3                     0.282   41        1  \n",
      "345  38.5                     0.349   49        0  \n",
      "588  33.3                     1.154   52        1  \n",
      "410  35.7                     0.674   28        0  \n",
      "\n",
      "[500 rows x 10 columns]\n"
     ]
    }
   ],
   "source": [
    "bootstrap_dataframe= df.sample(n=500,replace=True ,random_state= 457)\n",
    "print(bootstrap_dataframe)"
   ]
  },
  {
   "cell_type": "code",
   "execution_count": 38,
   "id": "ae8c745c-1e04-4a60-9bcb-1f1d3b0ca2f3",
   "metadata": {},
   "outputs": [],
   "source": [
    "# finding mean for bootsraop sample and population data set"
   ]
  },
  {
   "cell_type": "code",
   "execution_count": 39,
   "id": "af920a64-1d79-40d3-b82b-39eb4855a721",
   "metadata": {},
   "outputs": [],
   "source": [
    "bootstrap_mean=bootstrap_dataframe[\"BloodPressure\"].mean()\n",
    "population_mean=df[\"BloodPressure\"].mean()"
   ]
  },
  {
   "cell_type": "code",
   "execution_count": 40,
   "id": "233202bb-1d46-4d8d-b8c1-2081b781fe8f",
   "metadata": {},
   "outputs": [],
   "source": [
    "#generating lists for mean values of blood presuure for bootstrap data and population"
   ]
  },
  {
   "cell_type": "code",
   "execution_count": 41,
   "id": "3f5bd8a2-236f-4ab4-b2a1-7502acfc38ae",
   "metadata": {},
   "outputs": [],
   "source": [
    "keys=[\"bootstrapdata\",\"population\"]\n",
    "values=[bootstrap_mean,population_mean]"
   ]
  },
  {
   "cell_type": "code",
   "execution_count": 42,
   "id": "e203d5ec-b2d6-4a68-bc23-52b4c2222616",
   "metadata": {},
   "outputs": [],
   "source": [
    "#visualizing the means of blood pressure for bootstrap sample and population"
   ]
  },
  {
   "cell_type": "code",
   "execution_count": 43,
   "id": "9d22bdba-9c34-45ff-b854-b0d110500228",
   "metadata": {},
   "outputs": [
    {
     "data": {
      "image/png": "[encoded data removed]",
      "text/plain": [
       "<Figure size 640x480 with 1 Axes>"
      ]
     },
     "metadata": {},
     "output_type": "display_data"
    }
   ],
   "source": [
    "plt.bar(keys, values, color ='blue',\n",
    "        width = 0.5)\n",
    " \n",
    "plt.xlabel(\"mean\")\n",
    "plt.ylabel(\" values \")\n",
    "plt.title(\"comparing bootstapsample and populationmean for bloodpressure\")\n",
    "\n",
    "\n",
    "plt.savefig(\"../results/botstrapSample_population_mean.png\")\n",
    "\n",
    "plt.show()"
   ]
  },
  {
   "cell_type": "code",
   "execution_count": 44,
   "id": "5f58a2e1-5eb0-49c3-8eb5-98f42fe44295",
   "metadata": {},
   "outputs": [],
   "source": [
    "#from the figure we can see that mean for bootstrap sample and population data set are almost equal"
   ]
  },
  {
   "cell_type": "code",
   "execution_count": 45,
   "id": "1b432e8e-5ddf-4df5-ab84-f6b14e4266df",
   "metadata": {},
   "outputs": [],
   "source": [
    "# finding the standard deviation fr bootsrap sample and population"
   ]
  },
  {
   "cell_type": "code",
   "execution_count": 46,
   "id": "6ffcdcbe-744c-44c9-b344-9a3e2ff462e4",
   "metadata": {},
   "outputs": [],
   "source": [
    "bootstrap_std=bootstrap_dataframe[\"BloodPressure\"].std()\n",
    "population_std=df[\"BloodPressure\"].std()"
   ]
  },
  {
   "cell_type": "code",
   "execution_count": 47,
   "id": "967da414-1842-45b6-9ad1-1845fdc344a9",
   "metadata": {},
   "outputs": [],
   "source": [
    "#creating lists for standard deviation of bloodpresuiure for bootstrap sample and population data set"
   ]
  },
  {
   "cell_type": "code",
   "execution_count": 48,
   "id": "2f5480ad-9ba1-4ec7-acaf-e2f9671deaeb",
   "metadata": {},
   "outputs": [],
   "source": [
    "#visualizing standard deviation of blood pressure for bootstrap data nad population data set\n"
   ]
  },
  {
   "cell_type": "code",
   "execution_count": 49,
   "id": "61bc745c-a1e5-40ad-b79f-0c9f7eff7bcf",
   "metadata": {
    "scrolled": true
   },
   "outputs": [
    {
     "data": {
      "image/png": "[encoded data removed]",
      "text/plain": [
       "<Figure size 640x480 with 1 Axes>"
      ]
     },
     "metadata": {},
     "output_type": "display_data"
    }
   ],
   "source": [
    "plt.bar(keys, values, color ='blue',\n",
    "        width = 0.5)\n",
    " \n",
    "plt.xlabel(\"standard deviation\")\n",
    "plt.ylabel(\" values \")\n",
    "plt.title(\"comparing bootstapsample and population standard deviation for bloodpressure\")\n",
    "\n",
    "\n",
    "plt.savefig(\"../results/botstrapSample_population_standarddeviation.png\")\n",
    "\n",
    "plt.show()"
   ]
  },
  {
   "cell_type": "code",
   "execution_count": 50,
   "id": "52b71fc1-1f06-4218-a190-a17398ed7674",
   "metadata": {},
   "outputs": [],
   "source": [
    "#from the figure  we can see that standard deviation fotr bootstrap sample and populatrion dataset are almost equal\n"
   ]
  },
  {
   "cell_type": "code",
   "execution_count": 51,
   "id": "9691ec3b-e22d-4f96-8425-e8bece7f9017",
   "metadata": {},
   "outputs": [],
   "source": [
    "# finding the 98th percentile for Bloodpressuire for bootstrap sample and population"
   ]
  },
  {
   "cell_type": "code",
   "execution_count": 52,
   "id": "7901cfc4-a62c-4a38-a94e-061039baa056",
   "metadata": {},
   "outputs": [],
   "source": [
    "Bootstrap_sample_98=bootstrap_dataframe.BloodPressure.quantile(0.98)  # 98th percent"
   ]
  },
  {
   "cell_type": "code",
   "execution_count": 53,
   "id": "674aec7b-d723-491f-b997-236d53325b05",
   "metadata": {},
   "outputs": [],
   "source": [
    "population_98=df.BloodPressure.quantile(0.98)"
   ]
  },
  {
   "cell_type": "code",
   "execution_count": 54,
   "id": "a1256d01-bade-4a65-98a4-c81b64cfcd92",
   "metadata": {},
   "outputs": [],
   "source": [
    "#generating lists to visualize 98 th percentile of Bloodpressure"
   ]
  },
  {
   "cell_type": "code",
   "execution_count": 55,
   "id": "8cace10f-7f01-41ef-9176-36f3f8f5099f",
   "metadata": {},
   "outputs": [],
   "source": [
    "keys=[\"Bootstrap_sample\",\"population\"]\n",
    "\n",
    "values=[Bootstrap_sample_98,population_98]"
   ]
  },
  {
   "cell_type": "code",
   "execution_count": 56,
   "id": "cfd34ddc-7997-472d-b9f4-6954e96dbd97",
   "metadata": {},
   "outputs": [],
   "source": [
    "# visualizing the 98th percentile of Bloodpressure for bootstrapsample and population data sets"
   ]
  },
  {
   "cell_type": "code",
   "execution_count": 58,
   "id": "5ee9d2e9-2ac9-4cab-ad8b-56600bb77629",
   "metadata": {},
   "outputs": [
    {
     "data": {
      "image/png": "[encoded data removed]",
      "text/plain": [
       "<Figure size 640x480 with 1 Axes>"
      ]
     },
     "metadata": {},
     "output_type": "display_data"
    }
   ],
   "source": [
    "plt.bar(keys, values, color ='blue',\n",
    "        width = 0.5)\n",
    " \n",
    "plt.xlabel(\"98th percentile\")\n",
    "plt.ylabel(\" values \")\n",
    "plt.title(\"comparing bootstrapsample and population 98th percentile\")\n",
    "\n",
    "\n",
    "plt.savefig(\"../results/bootstrap_sample_population_98th percentile.png\")\n",
    "\n",
    "plt.show()"
   ]
  },
  {
   "cell_type": "code",
   "execution_count": 59,
   "id": "04b8e327-cffb-43dd-ad88-5e6eb604ffd4",
   "metadata": {},
   "outputs": [],
   "source": [
    "# from the above figure we can say that the bootstrap sample and population 98th percentile values are almost equal"
   ]
  },
  {
   "cell_type": "code",
   "execution_count": null,
   "id": "a53b3e99-bb1a-4fe9-8846-0838ae6aba9d",
   "metadata": {},
   "outputs": [],
   "source": []
  }
 ],
 "metadata": {
  "kernelspec": {
   "display_name": "Python 3 (ipykernel)",
   "language": "python",
   "name": "python3"
  },
  "language_info": {
   "codemirror_mode": {
    "name": "ipython",
    "version": 3
   },
   "file_extension": ".py",
   "mimetype": "text/x-python",
   "name": "python",
   "nbconvert_exporter": "python",
   "pygments_lexer": "ipython3",
   "version": "3.11.2"
  }
 },
 "nbformat": 4,
 "nbformat_minor": 5
}
