{
 "cells": [
  {
   "cell_type": "code",
   "execution_count": 1,
   "id": "ed814309-0e5f-413b-94ea-252996db3123",
   "metadata": {},
   "outputs": [],
   "source": [
    "import pandas as pd"
   ]
  },
  {
   "cell_type": "code",
   "execution_count": 2,
   "id": "2dd69b81-df2b-4340-8247-c21e232bd6ba",
   "metadata": {},
   "outputs": [],
   "source": [
    "#loading the raw data"
   ]
  },
  {
   "cell_type": "code",
   "execution_count": 3,
   "id": "efea4d46-6715-4344-894e-b852e43be180",
   "metadata": {},
   "outputs": [],
   "source": [
    "df = pd.read_csv('../data_raw/diabetes.csv')"
   ]
  },
  {
   "cell_type": "code",
   "execution_count": 4,
   "id": "0aa6eeed-7f00-4cd8-bf71-16b39c03cf25",
   "metadata": {},
   "outputs": [
    {
     "name": "stdout",
     "output_type": "stream",
     "text": [
      "   Pregnancies  Glucose  BloodPressure  SkinThickness  Insulin   BMI  \\\n",
      "0            6      148             72             35        0  33.6   \n",
      "1            1       85             66             29        0  26.6   \n",
      "2            8      183             64              0        0  23.3   \n",
      "3            1       89             66             23       94  28.1   \n",
      "4            0      137             40             35      168  43.1   \n",
      "\n",
      "   DiabetesPedigreeFunction  Age  Outcome  \n",
      "0                     0.627   50        1  \n",
      "1                     0.351   31        0  \n",
      "2                     0.672   32        1  \n",
      "3                     0.167   21        0  \n",
      "4                     2.288   33        1  \n"
     ]
    }
   ],
   "source": [
    "print(df.head())"
   ]
  },
  {
   "cell_type": "code",
   "execution_count": 5,
   "id": "7e76dec1-b056-4ecc-9ac8-306ac9c439b8",
   "metadata": {},
   "outputs": [
    {
     "data": {
      "text/plain": [
       "Pregnancies                 0\n",
       "Glucose                     0\n",
       "BloodPressure               0\n",
       "SkinThickness               0\n",
       "Insulin                     0\n",
       "BMI                         0\n",
       "DiabetesPedigreeFunction    0\n",
       "Age                         0\n",
       "Outcome                     0\n",
       "dtype: int64"
      ]
     },
     "execution_count": 5,
     "metadata": {},
     "output_type": "execute_result"
    }
   ],
   "source": [
    "df.isnull().sum()"
   ]
  },
  {
   "cell_type": "code",
   "execution_count": 9,
   "id": "cdb35b9f-df85-42e1-875b-64770da74455",
   "metadata": {},
   "outputs": [],
   "source": [
    "#Storing the cleaned data to data_clean folder"
   ]
  },
  {
   "cell_type": "code",
   "execution_count": 10,
   "id": "d6cda5da-50a0-47da-bec4-56b054ea8a18",
   "metadata": {},
   "outputs": [],
   "source": [
    "df.to_csv('../data_clean/diabetes.csv')"
   ]
  },
  {
   "cell_type": "code",
   "execution_count": null,
   "id": "c7e65ff6-caa5-4e54-994c-236688049846",
   "metadata": {},
   "outputs": [],
   "source": []
  }
 ],
 "metadata": {
  "kernelspec": {
   "display_name": "Python 3 (ipykernel)",
   "language": "python",
   "name": "python3"
  },
  "language_info": {
   "codemirror_mode": {
    "name": "ipython",
    "version": 3
   },
   "file_extension": ".py",
   "mimetype": "text/x-python",
   "name": "python",
   "nbconvert_exporter": "python",
   "pygments_lexer": "ipython3",
   "version": "3.11.2"
  }
 },
 "nbformat": 4,
 "nbformat_minor": 5
}
